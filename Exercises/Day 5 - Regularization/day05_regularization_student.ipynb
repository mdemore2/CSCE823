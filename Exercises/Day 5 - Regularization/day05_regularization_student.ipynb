{
 "cells": [
  {
   "cell_type": "markdown",
   "metadata": {},
   "source": [
    "# Regularization Part 1\n",
    "\n",
    "---\n",
    "\n",
    "Learning goals:  implement and explore the results of using Data Augmentation and Early stopping.  To do this you will also need to set up higher capacity models\n",
    "\n",
    "There are 3 areas of code required:\n",
    "\n",
    "1. Build an early stopping mechanism within the ```fit``` function of the ```ANN``` Class\n",
    "2. Implement data augmentation in the ```generateAugmentedTrainData``` function\n",
    "3. Implement a higher capacity model to use these techniques on - in the portion of the code that builds and evaluates models"
   ]
  },
  {
   "cell_type": "code",
   "execution_count": 1,
   "metadata": {},
   "outputs": [],
   "source": [
    "import os\n",
    "import numpy as np\n",
    "import copy\n",
    "import matplotlib.pyplot as plt"
   ]
  },
  {
   "cell_type": "markdown",
   "metadata": {},
   "source": [
    "---\n",
    "\n",
    "# Setup\n",
    "\n",
    "---"
   ]
  },
  {
   "cell_type": "markdown",
   "metadata": {},
   "source": [
    "### Helper functions for visualizing data, newtwork outputs, and train/val loss curves per ecoch"
   ]
  },
  {
   "cell_type": "code",
   "execution_count": 2,
   "metadata": {},
   "outputs": [],
   "source": [
    "def dataplotter(featureData, labelData, title):\n",
    "    '''plot annotated points to show where the boolean inputs lie on the graph''' \n",
    "\n",
    "    fig, ax = plt.subplots()\n",
    "\n",
    "    xmin, xmax = np.min(featureData[:, 0]) - 0.1, np.max(featureData[:, 0]) + 0.1\n",
    "    ymin, ymax = np.min(featureData[:, 1]) - 0.1, np.max(featureData[:, 1]) + 0.1\n",
    "\n",
    "        \n",
    "#     ax.scatter(featureData[:, 0], featureData[:, 1], color='b', alpha=0.2)\n",
    "    for i, txt in enumerate(labelData):\n",
    "        ax.annotate(txt.item(), (featureData[i, 0], featureData[i, 1]))\n",
    "\n",
    "        # adjust the axis & add labels for the graph\n",
    "    plt.axis([xmin, xmax, ymin, ymax])\n",
    "    plt.ylabel('x2')\n",
    "    plt.xlabel('x1')\n",
    "    plt.title(title)\n",
    "    plt.show()\n",
    "    \n",
    "\n",
    "\n",
    "\n",
    "\n",
    "def makeDecisionBoundaryBool2(model, featureData, labelData, title):\n",
    "    '''Build decision boundary figrue for 2-input, 1-output boolean logic functions\n",
    "    Note that this assumes a hard sigmoid was used and establishes a cutoff at 0.5\n",
    "    for predicting 0 or 1'''\n",
    "    cutoff = 0.5  # 0.5 for Sigmoid. 0.0 for TANH\n",
    "    fig, ax = plt.subplots()\n",
    "\n",
    "    xmin, xmax = np.min(featureData[:, 0]) - 0.1, np.max(featureData[:, 0]) + 0.1\n",
    "    ymin, ymax = np.min(featureData[:, 1]) - 0.1, np.max(featureData[:, 1]) + 0.1\n",
    "\n",
    "    # Create filled countour map to color both sides of the boundary\n",
    "    x = np.linspace(xmin, xmax, 200)\n",
    "    y = np.linspace(ymin, ymax, 200)\n",
    "    X, Y = np.meshgrid(x, y)\n",
    "    grid = np.c_[X.ravel(), Y.ravel()]\n",
    "    preds = model.predict(grid)  # get predictions\n",
    "    z = preds.reshape(X.shape) > cutoff  # cutoff on predictions to return boolean output\n",
    "    plt.contourf(X, Y, z, cmap='YlOrBr')\n",
    "\n",
    "    # add annotated points to show where the boolean inputs lie on the graph\n",
    "    ax.scatter(featureData[:, 0], featureData[:, 1], color='b', alpha=0.5)\n",
    "    for i, txt in enumerate(labelData):\n",
    "        ax.annotate(txt.item(), (featureData[i, 0], featureData[i, 1]))\n",
    "\n",
    "        # adjust the axis & add labels for the graph\n",
    "    plt.axis([xmin, xmax, ymin, ymax])\n",
    "    plt.ylabel('x2')\n",
    "    plt.xlabel('x1')\n",
    "    plt.title(title)\n",
    "    plt.show()\n",
    "\n",
    "\n",
    "def show2dFunctionOutput(model_function, featureData, labelData, title):\n",
    "    \"\"\"display results of arbitrary model function on 2-input (x1,x2) , 1-output (z) graphs\"\"\"\n",
    "    # cutoff = 0.5  # 0.5 for Sigmoid. 0.0 for TANH\n",
    "    fig, ax = plt.subplots(figsize=(8,5))\n",
    "\n",
    "    xmin, xmax = np.min(featureData[:, 0]) - 0.1, np.max(featureData[:, 0]) + 0.1\n",
    "    ymin, ymax = np.min(featureData[:, 1]) - 0.1, np.max(featureData[:, 1]) + 0.1\n",
    "\n",
    "    # Create filled countour map to color both sides of the boundary\n",
    "    x = np.linspace(xmin, xmax, 200)\n",
    "    y = np.linspace(ymin, ymax, 200)\n",
    "    X, Y = np.meshgrid(x, y)\n",
    "    grid = np.c_[X.ravel(), Y.ravel()]\n",
    "    outputs, _, _, _ = model_function(grid)  # get predictions\n",
    "    z = outputs.reshape(X.shape)  # reshape predictions for 2d representation\n",
    "    plotlevels = np.linspace(0.,1., 25)  # split colors between 0 and 1\n",
    "    CS = plt.contourf(X, Y, z, levels = plotlevels, cmap='YlOrBr')\n",
    "\n",
    "    # add annotated points to show where the boolean inputs lie on the graph\n",
    "    ax.scatter(featureData[:, 0], featureData[:, 1], color='b', alpha=0.5)\n",
    "    for i, txt in enumerate(labelData):\n",
    "        ax.annotate(txt.item(), (featureData[i, 0], featureData[i, 1]))\n",
    "\n",
    "    \n",
    "    cbar = plt.colorbar(CS)\n",
    "    cbar.ax.set_ylabel('raw network output')\n",
    "    # adjust the axis & add labels for the graph\n",
    "    plt.axis([xmin, xmax, ymin, ymax])\n",
    "    plt.ylabel('x2')\n",
    "    plt.xlabel('x1')\n",
    "\n",
    "    plt.title(title)\n",
    "    plt.show()\n",
    "    \n",
    "def showLossHistory(tng_loss_history=[],val_loss_history=[],semilog=True,plotname=\"\"):\n",
    "    plt.figure()\n",
    "    if semilog:\n",
    "        plt.semilogy(tng_loss_history,'r', label = \"Training Loss\")\n",
    "        plt.semilogy(val_loss_history, 'b', label = \"Validation Loss\")\n",
    "        plt.ylabel(\"Loss (MSE) - semilog scale\")\n",
    "\n",
    "    else:    \n",
    "        plt.plot(tng_loss_history,'r', label = \"Training Loss\")\n",
    "        plt.plot(val_loss_history, 'b', label = \"Validation Loss\")\n",
    "        plt.ylabel(\"Loss (MSE)\")\n",
    "    plt.xlabel(\"iteration\")\n",
    "    plt.legend()\n",
    "    plt.title(plotname+\" Loss over iterations\")\n",
    "    plt.show() \n",
    "    "
   ]
  },
  {
   "cell_type": "markdown",
   "metadata": {},
   "source": [
    "### Defining the activation functions and their derivatives"
   ]
  },
  {
   "cell_type": "code",
   "execution_count": 3,
   "metadata": {},
   "outputs": [],
   "source": [
    "def sigmoid(x):\n",
    "    #handle if the x is a big negative number to prevent exp overflow\n",
    "    safe_x = ((-x>700.)*(-700.)) + (-x<=700.)*x  #cap the max negative value to be -700 which would essentially make sigmoid(x) return 0\n",
    "    return 1. / (1. + np.exp(-safe_x))\n",
    "\n",
    "\n",
    "def dSigmoid(x):  # derivative of sigmoid\n",
    "    s = sigmoid(x)\n",
    "    return np.multiply(s, (1-s))\n",
    "\n",
    "\n",
    "def relu(z):  # rectified linear unit activation\n",
    "    return np.maximum(0, z)\n",
    "\n",
    "\n",
    "def dRelu(z):\n",
    "    \"\"\" \n",
    "    Derivative of Rectified Linear Unit\n",
    "\n",
    "    \"\"\"\n",
    "    return 1 * (z > 0)\n"
   ]
  },
  {
   "cell_type": "markdown",
   "metadata": {},
   "source": [
    "---"
   ]
  },
  {
   "cell_type": "markdown",
   "metadata": {},
   "source": [
    "## Student Coding step 1:\n",
    "\n",
    "Add early stopping based on validation loss & valpatience in the ```fit``` function definition near the bottom of this cell\n",
    "\n",
    "The code below implements an ANN class with forward prop and backporpagation components from Goodfellow's deep learing book, algorithms 6.3 and 6.4"
   ]
  },
  {
   "cell_type": "code",
   "execution_count": 4,
   "metadata": {},
   "outputs": [],
   "source": [
    "def L2_reg_gradient(inputs):\n",
    "    return inputs\n",
    "\n",
    "def L1_reg_gradient(inputs):\n",
    "    return np.sign(inputs)\n",
    "\n",
    "def No_regularization(inputs):\n",
    "    return 0*inputs\n",
    "\n",
    "class ANN:\n",
    "    data = []\n",
    "    layers = []\n",
    "    inputWidth = 1\n",
    "    outputWidth = 1\n",
    "    regularizer_gradient_fcn = [] \n",
    "\n",
    "    class Layer:\n",
    "\n",
    "        \"\"\"class defining the elements of an ANN layer\"\"\"\n",
    "\n",
    "        def __init__(self):\n",
    "            self.w = []\n",
    "            self.b = []\n",
    "            self.nodecount = []\n",
    "            self.activation_fcn = []\n",
    "            self.activation_fcn_derivative = []\n",
    "            self.regularizer_gradient_fcn = [] \n",
    "            self.layer_reg_lambda = 0\n",
    "            self.orderNumber = []\n",
    "            self.previous = None  # link to previous layer\n",
    "            self.next = None  # link to next layer\n",
    "\n",
    "        def set_weights(self, w, b):\n",
    "            \"\"\"set the weights and bias for the layer.  Layer weights should have dimesion: (thislayer_nodecount, previouslayer_nodecount)\n",
    "            the dimension of the bias should be (thislayer_nodecount,1)\"\"\"\n",
    "            self.w = w\n",
    "            self.b = b\n",
    "            return self\n",
    "\n",
    "        \n",
    "        def initialize_weights(self, seed=None):\n",
    "            assert self.w.size > 0\n",
    "            assert self.b.size > 0\n",
    "            np.random.seed(seed)  \n",
    "            self.w = np.random.normal(size=(self.w.shape))  # hidden weight matrix [rows = to, columns = from]\n",
    "            self.b = np.random.normal(size=(self.b.shape))  # hidden biases (column vector)\n",
    "\n",
    "        def get_layer(self):\n",
    "            \"\"\"get the current state for the layer.  \"\"\"\n",
    "            return self\n",
    "\n",
    "        def set_activation(self, activation_fcn):\n",
    "            self.activation_fcn = activation_fcn\n",
    "            return self\n",
    "\n",
    "        def set_activation_deriv(self, activation_fcn):\n",
    "            if activation_fcn == sigmoid:\n",
    "                self.activation_fcn_derivative = copy.deepcopy(dSigmoid)\n",
    "            elif activation_fcn == relu:\n",
    "                self.activation_fcn_derivative = copy.deepcopy(dRelu)\n",
    "            else:\n",
    "                self.activation_fcn_derivative = None\n",
    "                \n",
    "        def display_params(self):\n",
    "            \"\"\"displays the weights and biases of the layer (rows = to, colums = from)\"\"\"\n",
    "            for outNum in range(self.w.shape[0]):\n",
    "                print(self.w[outNum,:], \"  \", self.b[outNum])\n",
    "        \n",
    "\n",
    "        def compute_pre_activation(self, inputs):\n",
    "            net = np.dot(self.w, inputs) + self.b\n",
    "            return net\n",
    "\n",
    "        def compute_bias_gradient(self, gradient):\n",
    "            g = np.mean(gradient, axis=1)[:, np.newaxis]  # no regularization\n",
    "            return g\n",
    "\n",
    "        def compute_weight_gradient(self, inputs, gradient):\n",
    "            g_omega = self.regularizer_gradient_fcn(self.w)\n",
    "            g = np.dot(gradient, inputs.T) + self.layer_reg_lambda * g_omega\n",
    "            return g\n",
    "\n",
    "        def compute_activation(self, net):\n",
    "            return self.activation_fcn(net)\n",
    "\n",
    "        def compute_activation_derivative(self, net):\n",
    "            return self.activation_fcn_derivative(net)\n",
    "\n",
    "        def compute_activation_gradient(self, net, gradient):\n",
    "            g = np.multiply(gradient, net)\n",
    "            return g\n",
    "\n",
    "        def compute_forward(self, inputs):\n",
    "            \"\"\"Returns layer ouput from input (shape = [nodeCount, input]) of the weighted input plus bias\n",
    "            input shape must be [lastlayer_nodeCount, samples] or [featurecount, samplecount] \"\"\"\n",
    "            net = self.compute_pre_activation(self, inputs)\n",
    "            layer_out = self.compute_activation(net)\n",
    "            return layer_out\n",
    "\n",
    "        def compute_layer_gradients(self, inputs, net, activation, gradient):\n",
    "            \"\"\" computes the loss gradient with respect to desired output of the layer\n",
    "            a set of desired targets is assumed to be matrix of shape [nodecount, samples]: SGD will have [nodecount,1]\n",
    "            hidden_inputs is assumed to be a matrix of shape [hiddenNodeCount, samples]\n",
    "            \n",
    "            This follows algorithm 6.4 line by line in the book!\n",
    "            \n",
    "            \"\"\"\n",
    "            \n",
    "            # f'(a(k))\n",
    "            d_activation = self.compute_activation_derivative(net)  # derivative of sigmoid:  shape = [NodeCount, samples]\n",
    "            \n",
    "            # g <- g * f'(a(k))\n",
    "            g_loss = self.compute_activation_gradient(d_activation, gradient)  # shape = [NodeCount, samples]  for outer layer\n",
    "            \n",
    "            # Delta_b(k) J = g (Take the mean across all 4 samples (batch))\n",
    "            g_loss_b = self.compute_bias_gradient(g_loss)  # mean gradient with respect to BIAS, shape = [NodeCount, 1]\n",
    "            \n",
    "            # Delta w(k) J = g * h(k-1)\n",
    "            g_loss_w = self.compute_weight_gradient(activation, g_loss)  # [1, 3]  Hidden layer outputs after activation\n",
    "            \n",
    "            # g <- W(k).T * g\n",
    "            g_loss_backprop = np.dot(self.w.T, g_loss)  # gradient to propagate back, shape = [hiddenNodeCount,samples]\n",
    "            \n",
    "            return g_loss_w, g_loss_b, g_loss_backprop\n",
    "\n",
    "        def update_Layer(self, weightUpdate, biasUpdate):\n",
    "            self.w = self.w + weightUpdate\n",
    "            self.b = self.b + biasUpdate\n",
    "\n",
    "    def __init__(self):\n",
    "        self.data = []\n",
    "        self.layers = []\n",
    "        self.inputWidth = 1\n",
    "        self.outputWidth = 1\n",
    "\n",
    "    def set_input_width(self, inputWidth):\n",
    "        \"\"\"defines the input layer width for the network\"\"\"\n",
    "        self.inputWidth = inputWidth\n",
    "\n",
    "    def add_layer(self, nodecount=1, activation_fcn=relu, regularizer_gradient_fcn=L2_reg_gradient, reg_lambda = 0.1):\n",
    "        \"\"\"adds a layer to the neural network and returns the layer\"\"\"\n",
    "        oldLayerCount = len(self.layers)\n",
    "        thislayer = ANN.Layer()\n",
    "        thislayer.orderNumber = oldLayerCount + 1\n",
    "\n",
    "        if oldLayerCount > 0:  # other layers have been added already\n",
    "            lastLayer = self.layers[-1]\n",
    "            lastLayer.display_params()\n",
    "            thislayer.previous = lastLayer\n",
    "            lastLayer.next = thislayer\n",
    "            layerInputSize = lastLayer.w.shape[0]\n",
    "        else:  # this will be the first layer\n",
    "            layerInputSize = self.inputWidth\n",
    "            \n",
    "        thislayer.w = np.zeros((nodecount, layerInputSize))  #[NODECOUNT,FROM]\n",
    "        thislayer.b = np.zeros((nodecount, 1 )) #[NODECOUNT,FROM]\n",
    "        thislayer.activation_fcn = activation_fcn\n",
    "        thislayer.set_activation_deriv(activation_fcn)\n",
    "        thislayer.regularizer_gradient_fcn=regularizer_gradient_fcn\n",
    "        thislayer.layer_reg_lambda = reg_lambda\n",
    "        self.outputWidth = nodecount\n",
    "        self.layers = self.layers + [thislayer]\n",
    "        return thislayer\n",
    "    \n",
    "    def initialize(self, seed = None):\n",
    "        \"\"\"initialize weights & biases: overwrites current network parameters\"\"\"\n",
    "        for layer in self.layers:\n",
    "            layer.initialize_weights(seed)\n",
    "    \n",
    "    def summary(self):\n",
    "        \"\"\"displays a summary of the model\"\"\"\n",
    "        tot_train_parameters = 0\n",
    "        print(\"\\n\")\n",
    "        print(\"Layer     Inshape     Outshape     Param #  \")\n",
    "        print(\"================================\")\n",
    "        for lnum, layer in enumerate(self.layers):\n",
    "            inshape = layer.w.shape[1]\n",
    "            weightCount = layer.w.shape[0]*layer.w.shape[1]  #assume fully connected\n",
    "            biasCount = layer.b.shape[0]\n",
    "            thislayerparams = weightCount+biasCount\n",
    "            tot_train_parameters += thislayerparams\n",
    "            print(\"% 3d      % 3d          % 3d        %3d \" %(lnum,inshape,biasCount,thislayerparams))\n",
    "        print(\"================================\")\n",
    "        print(\"total trainable params: \",tot_train_parameters )\n",
    "        \n",
    "    def display_params(self):\n",
    "        \"\"\"displays the weights and biases of the network (rows = to, colums = from)\"\"\"\n",
    "        print(\"\\n\")\n",
    "        print(\"input width: \", self.inputWidth)\n",
    "        for lnum, layer in enumerate(self.layers):\n",
    "            print(\"Layer \",lnum)\n",
    "            layer.display_params()\n",
    "        print(\"output width: \", layer.w.shape[0])\n",
    "        \n",
    "    def get_state(self):\n",
    "        return self\n",
    "                \n",
    "                \n",
    "    def forwardPropagation(self, inputs):\n",
    "        \"\"\"Compute forward pass of two layer network\n",
    "        inputs are assumed to be (shape=[sampleCount,featureCount])\n",
    "        returns a matrix of raw outputs with one row of output per node (shape=[sampleCount, outputNodeCount])\n",
    "        Internal matrices are shaped for efficiency to avoid internal transposes (columns hold observations/samples) \"\"\"\n",
    "\n",
    "        # inputs and outputs will be transposed for efficiency during forwardPropagation and untransposed before returning\n",
    "\n",
    "        nets = []\n",
    "        activations = []\n",
    "        layer_input = inputs.T\n",
    "\n",
    "        for lnum, layer in enumerate(self.layers):\n",
    "            # inputs = inputs + inputs\n",
    "            layer_net = layer.compute_pre_activation(layer_input)\n",
    "            nets.append(layer_net)\n",
    "\n",
    "            layer_out = layer.compute_activation(layer_net)\n",
    "            activations.append(layer_out)\n",
    "\n",
    "            layer_input = layer_out\n",
    "        raw_output = layer_out.T\n",
    "        return raw_output, inputs, nets, activations\n",
    "\n",
    "    def backPropagation(self, inputs, desiredOutputs, learningRate):\n",
    "        w_grads = []\n",
    "        b_grads = []\n",
    "        # store nets and activations for each layer\n",
    "        raw_output, _, nets, activations = self.forwardPropagation(inputs)\n",
    "        layer_desired_out = desiredOutputs\n",
    "\n",
    "        # Note: This is only part of the gradient\n",
    "        layer_grad = desiredOutputs - raw_output\n",
    "\n",
    "        #  computation of full gradient handled inside the loop below\n",
    "        for lnum, layer in reversed(list(enumerate(self.layers))):\n",
    "            if lnum == 0:  #INPUT LAYER\n",
    "                prev_layer_output = inputs.T\n",
    "            else: # NOT INPUT LAYER\n",
    "                prev_layer_output = activations[lnum - 1]\n",
    "                \n",
    "            if lnum == len(self.layers)-1:  #OUTPUT LAYER\n",
    "                w_grad, b_grad, loss_grad = layer.compute_layer_gradients(inputs[lnum], nets[lnum], prev_layer_output,\n",
    "                                                                          layer_grad.T)\n",
    "            else:  #NOT OUTPUT LAYER\n",
    "                w_grad, b_grad, loss_grad = layer.compute_layer_gradients(inputs[lnum], nets[lnum], prev_layer_output,\n",
    "                                                                          layer_grad)\n",
    "            layer.update_Layer(w_grad * learningRate, b_grad * learningRate)\n",
    "            layer_grad = loss_grad\n",
    "\n",
    "    def predict(self, X, threshold=0.5):\n",
    "        \"\"\"Compute predictions using forward propagation for single binary classification at threshold\n",
    "        X is a standard dataFrame without biases (shape=[observationCount,featureCount])\n",
    "        returns a standard column vector of binary predictions in {0,1}: (shape=[observationCount, 1])\"\"\"\n",
    "        raw_predictions, net_inputs, net_lst, activation_lst = self.forwardPropagation(X)\n",
    "        preds = raw_predictions > threshold\n",
    "        return preds\n",
    "\n",
    "    def compute_loss(self, inputs, desired_targets):\n",
    "        \"\"\"computes the (scalar) loss using MSE of a set of targets and sigmoid outputs\n",
    "        inputs is assumed to be a matrix of shape [samples, features]\n",
    "         desired_targets is assumed to be a matrix of shape [samples, 1]\"\"\"\n",
    "        raw_outputs = self.forwardPropagation(inputs)[0]\n",
    "        error = desired_targets - raw_outputs\n",
    "        mse = np.dot(error.T, error) / error.size\n",
    "        return mse\n",
    "\n",
    "    def fit(self, tngInputs, tngTargets, valInputs, valTargets, learningRate, learningRateDecay,\n",
    "            valPatience=0, val_tolerance=1e-3, maxEpochs = 100):\n",
    "        \"\"\"fit model to map tngInputs to tngTargets. If valPatience > 0 then use early stopping on valInputs & valTargets\n",
    "        returns training loss history and val loss history \"\"\"\n",
    "        done = False\n",
    "        tng_loss_history = []\n",
    "        val_loss_history = []\n",
    "        print(\"Training Model...\")\n",
    "        epoch = 0\n",
    "        #get current val performance\n",
    "        valPreds = self.predict(valInputs)\n",
    "      \n",
    "        prev_val_loss = self.compute_loss(valInputs, valTargets).item()\n",
    "        val_loss_history.append(prev_val_loss)\n",
    "        val_epochs_nonimproved = 0\n",
    "        best_epoch = 1\n",
    "        best_net = copy.deepcopy(self.get_state())  #keep track of the best performing net so far\n",
    "        \n",
    "        while not done:\n",
    "            epoch+=1\n",
    "            if epoch>maxEpochs: \n",
    "                done = True\n",
    "            learningRate = learningRate * learningRateDecay\n",
    "            tngPreds = self.predict(tngInputs)\n",
    "            tngCorrect = tngTargets == tngPreds\n",
    "            curr_train_loss = self.compute_loss(tngInputs, tngTargets).item()\n",
    "            tng_loss_history.append(curr_train_loss)\n",
    "            \n",
    "           \n",
    "            self.backPropagation(tngInputs, tngTargets, learningRate=learningRate)\n",
    "            \n",
    "            valPreds = self.predict(valInputs)\n",
    "            cur_val_loss = self.compute_loss(valInputs, valTargets).item()\n",
    "            \n",
    "            ############## STUDENT CODE #################\n",
    "            # WRITE CODE TO IMPLEMENT EARLY STOPPING USING VAL LOSS IMPROVEMENT\n",
    "            # if validation loss has not improved in patience epochs then stop\n",
    "            \n",
    "                    \n",
    "            ############ END STUDENT CODE ###############\n",
    "\n",
    "            val_loss_history.append(cur_val_loss)\n",
    "            \n",
    "        print(\"Training Complete!\")\n",
    "\n",
    "        return tng_loss_history, val_loss_history"
   ]
  },
  {
   "cell_type": "markdown",
   "metadata": {},
   "source": [
    "### Helper function to instantiate an ANN from parameters"
   ]
  },
  {
   "cell_type": "code",
   "execution_count": 5,
   "metadata": {},
   "outputs": [],
   "source": [
    "def make_ANN_model(input_width = 2,\n",
    "                   layer_widths = [3,1],\n",
    "                   layer_activiations = [sigmoid,sigmoid],\n",
    "                   regularizer_gradient_fcn=L2_reg_gradient,\n",
    "                   reg_lambda = 0.01,\n",
    "                   seed = None):\n",
    "    model = ANN()\n",
    "    print()\n",
    "    print(list(zip(layer_widths,layer_activiations)))\n",
    "    model.set_input_width(input_width)\n",
    "    print(\"\\n Generating Model Architecture:\")\n",
    "    for lnum,(layerWidth,layerActivation) in enumerate(zip(layer_widths,layer_activiations)):\n",
    "        print(\"Adding layer: \",lnum, \" with nodecount = \", layerWidth, \", activation_fcn =\", layerActivation)\n",
    "        model.add_layer(nodecount = layerWidth, activation_fcn=layerActivation, regularizer_gradient_fcn=regularizer_gradient_fcn , reg_lambda = reg_lambda)\n",
    "    model.initialize(seed)\n",
    "    return model\n",
    "        \n",
    " \n",
    "    \n",
    "    "
   ]
  },
  {
   "cell_type": "markdown",
   "metadata": {},
   "source": [
    "### Helper function to train an ANN from parameters.  Allows for separate training and validation data"
   ]
  },
  {
   "cell_type": "code",
   "execution_count": 6,
   "metadata": {},
   "outputs": [],
   "source": [
    "def train_ANN_model(model=None,\n",
    "                    trainX = None, trainY = None,\n",
    "                    valX=None,valY=None,\n",
    "                    learning_rate=1.0,\n",
    "                    lr_decay=0.999,\n",
    "                    valPatience=0,\n",
    "                    maxEpochs = 100,\n",
    "                    plotname=\"\"):\n",
    "    \n",
    "    \n",
    "\n",
    "    preds = model.predict(valX)\n",
    "    correct = valY == preds\n",
    "    print(\"\\n BEFORE TRAINING (randomized weights)\")\n",
    "    model.display_params()\n",
    "    print(\"\\n\")\n",
    "    print(\"predictions: \\n\", preds)\n",
    "    print(\"Predictions correct?: \\n\", correct)\n",
    "\n",
    "    #fit(self, tngInputs, tngTargets, valInputs, valTargets, learningRate, learningRateDecay,\n",
    "    #        valPatience=0, tolerance=1e-2, maxEpochs = 100)\n",
    "    tng_loss_history,val_loss_history = model.fit(tngInputs=trainX, tngTargets=trainY, valInputs=valX, valTargets = valY,\n",
    "                                                  learningRate=learning_rate, learningRateDecay=lr_decay, valPatience=valPatience,\n",
    "                                                  val_tolerance=0.01, maxEpochs=maxEpochs)\n",
    "\n",
    "    preds = model.predict(valX)\n",
    "    correct = valY == preds\n",
    "\n",
    "    print(\"\\n \\n AFTER TRAINING (learned model weights) \")\n",
    "    model.display_params()\n",
    "\n",
    "    print(\"\\n\")\n",
    "    print(\"predictions: \\n\", preds)\n",
    "    print(\"Predictions correct?: \\n\", correct)\n",
    "\n",
    "    show2dFunctionOutput(model.forwardPropagation, X, Y, plotname+ \" Raw Response of Network\")\n",
    "    makeDecisionBoundaryBool2(model, X, Y, plotname+ \" XOR threshold predictions\")\n",
    "    showLossHistory(tng_loss_history,val_loss_history,plotname)\n",
    "    \n",
    "    return tng_loss_history, val_loss_history\n"
   ]
  },
  {
   "cell_type": "markdown",
   "metadata": {},
   "source": [
    "---"
   ]
  },
  {
   "cell_type": "markdown",
   "metadata": {},
   "source": [
    "### Helper function to produce datasets for logic gates"
   ]
  },
  {
   "cell_type": "code",
   "execution_count": 7,
   "metadata": {},
   "outputs": [],
   "source": [
    "def get_input_output_data(gate='XOR'):\n",
    "    \"\"\" Two dimensional inputs for logic gates\n",
    "\n",
    "    Parameters\n",
    "    ----------\n",
    "    gate : str\n",
    "        Must be either AND, OR, XOR\n",
    "\n",
    "    Returns\n",
    "    -------\n",
    "    X : array-like, shape(samples, features)\n",
    "        Two dim input for logic gates\n",
    "\n",
    "    truth[gate] : array-like, shapes(samples, )\n",
    "        The truth value for this logic gate\n",
    "\n",
    "    \"\"\"\n",
    "\n",
    "    X = np.array([[0., 0.],\n",
    "                  [0., 1.],\n",
    "                  [1., 0.],\n",
    "                  [1., 1.]])\n",
    "\n",
    "    truth = {\n",
    "        'AND': np.array([0, 0, 0, 1]),\n",
    "        'OR': np.array([0, 1, 1, 1]),\n",
    "        'XOR': np.array([0, 1, 1, 0])\n",
    "    }\n",
    "\n",
    "    return X, truth[gate][:, np.newaxis]"
   ]
  },
  {
   "cell_type": "markdown",
   "metadata": {},
   "source": [
    "---\n",
    "\n",
    "# Training the networks\n",
    "\n",
    "Here we implement both a small and large network and use both data augmentation and early stopping as regularization techniques to see how they perform on these networks.\n",
    "\n",
    "Students will need to implement the architecture for the larger network and implement data augmentation below."
   ]
  },
  {
   "cell_type": "markdown",
   "metadata": {},
   "source": [
    "---"
   ]
  },
  {
   "cell_type": "markdown",
   "metadata": {},
   "source": [
    "### Globals for repeatability of expriements"
   ]
  },
  {
   "cell_type": "code",
   "execution_count": 8,
   "metadata": {},
   "outputs": [],
   "source": [
    "NETWORK_INIT_SEED = 1  # global value for starting seed initialization for network weights\n",
    "DATA_AUGMENT_SEED = 1  # global value for starting seed initialization for data generation random number sequence\n",
    "VAL_PATIENCE = 200     # number of epochs to wait for validation performance improvement\n",
    "MAX_EPOCHS = 10000     # maximum number of epochs to train before quitting training\n",
    "LEARNING_RATE = 0.01\n",
    "LEARNING_RATE_DECAY = 1.0  # Float required.  Set to 1. for no decay.  set on the interval [0,1) for exponential decay"
   ]
  },
  {
   "cell_type": "markdown",
   "metadata": {},
   "source": [
    "---\n",
    "\n",
    "## Example: Smallest-possible XOR Network "
   ]
  },
  {
   "cell_type": "code",
   "execution_count": 9,
   "metadata": {},
   "outputs": [
    {
     "name": "stdout",
     "output_type": "stream",
     "text": [
      "\n",
      "[(2, <function relu at 0x00000202804FA5E8>), (1, <function sigmoid at 0x00000202804FA708>)]\n",
      "\n",
      " Generating Model Architecture:\n",
      "Adding layer:  0  with nodecount =  2 , activation_fcn = <function relu at 0x00000202804FA5E8>\n",
      "Adding layer:  1  with nodecount =  1 , activation_fcn = <function sigmoid at 0x00000202804FA708>\n",
      "[0. 0.]    [0.]\n",
      "[0. 0.]    [0.]\n",
      "empty model info\n",
      "\n",
      "\n",
      "Layer     Inshape     Outshape     Param #  \n",
      "================================\n",
      "  0        2            2          6 \n",
      "  1        2            1          3 \n",
      "================================\n",
      "total trainable params:  9\n"
     ]
    }
   ],
   "source": [
    "small_model = make_ANN_model(input_width = 2,\n",
    "                             layer_widths = [2,1],  #number of nodes in each layer\n",
    "                             layer_activiations = [relu,sigmoid],  #activations at each layer\n",
    "                             regularizer_gradient_fcn=L2_reg_gradient,\n",
    "                             reg_lambda=0.01, #low regularization\n",
    "                             seed = NETWORK_INIT_SEED)  \n",
    "\n",
    "print(\"empty model info\")\n",
    "small_model.summary()"
   ]
  },
  {
   "cell_type": "markdown",
   "metadata": {},
   "source": [
    "### Train the small network without data augmentation\n",
    "\n",
    "Note that we will use the same 4 XOR datapoints for both trianing and validation here."
   ]
  },
  {
   "cell_type": "code",
   "execution_count": 10,
   "metadata": {},
   "outputs": [
    {
     "name": "stdout",
     "output_type": "stream",
     "text": [
      "\n",
      " BEFORE TRAINING (randomized weights)\n",
      "\n",
      "\n",
      "input width:  2\n",
      "Layer  0\n",
      "[ 1.62434536 -0.61175641]    [0.86540763]\n",
      "[-0.52817175 -1.07296862]    [-2.3015387]\n",
      "Layer  1\n",
      "[ 1.62434536 -0.61175641]    [-0.52817175]\n",
      "output width:  1\n",
      "\n",
      "\n",
      "predictions: \n",
      " [[ True]\n",
      " [False]\n",
      " [ True]\n",
      " [ True]]\n",
      "Predictions correct?: \n",
      " [[False]\n",
      " [False]\n",
      " [ True]\n",
      " [False]]\n",
      "Training Model...\n",
      "Training Complete!\n",
      "\n",
      " \n",
      " AFTER TRAINING (learned model weights) \n",
      "\n",
      "\n",
      "input width:  2\n",
      "Layer  0\n",
      "[ 2.35238346 -0.6055079 ]    [0.85201171]\n",
      "[-1.43579146 -2.91677694]    [-2.3015387]\n",
      "Layer  1\n",
      "[ 0.07803159 -1.66300949]    [-0.19501975]\n",
      "output width:  1\n",
      "\n",
      "\n",
      "predictions: \n",
      " [[False]\n",
      " [False]\n",
      " [ True]\n",
      " [ True]]\n",
      "Predictions correct?: \n",
      " [[ True]\n",
      " [False]\n",
      " [ True]\n",
      " [False]]\n"
     ]
    },
    {
     "data": {
      "image/png": "[encoded data removed]",
      "text/plain": [
       "<Figure size 576x360 with 2 Axes>"
      ]
     },
     "metadata": {
      "needs_background": "light"
     },
     "output_type": "display_data"
    },
    {
     "data": {
      "image/png": "[encoded data removed]",
      "text/plain": [
       "<Figure size 432x288 with 1 Axes>"
      ]
     },
     "metadata": {
      "needs_background": "light"
     },
     "output_type": "display_data"
    },
    {
     "data": {
      "image/png": "[encoded data removed]",
      "text/plain": [
       "<Figure size 432x288 with 1 Axes>"
      ]
     },
     "metadata": {
      "needs_background": "light"
     },
     "output_type": "display_data"
    }
   ],
   "source": [
    "X, Y = get_input_output_data(gate='XOR')\n",
    "\n",
    "trainX = X\n",
    "trainY = Y\n",
    "valX = X\n",
    "valY = Y\n",
    "\n",
    "_ = train_ANN_model(small_model,trainX,trainY,valX,valY,\n",
    "                learning_rate=0.01,lr_decay=1.0,\n",
    "                valPatience = VAL_PATIENCE, maxEpochs = MAX_EPOCHS, plotname = \"Small Model No Augmentation\")\n",
    "\n",
    "#note that the underscore above telly python to not capture the returned training history from the model trainer (otherwise it would print out to screen)"
   ]
  },
  {
   "cell_type": "markdown",
   "metadata": {},
   "source": [
    "Results:  Here we can see that the network is unable to replicate the XOR function\n",
    "\n",
    "\n",
    "\n",
    "\n"
   ]
  },
  {
   "cell_type": "markdown",
   "metadata": {},
   "source": [
    "---\n",
    "\n",
    "\n",
    "## Student Code 2 - Implement Data Augmentation\n",
    "\n",
    "Create and return augmented training dataset by adding small amounts of random gaussian noise to randomly selected X datapoints, but keep the same Y labels for those points.\n",
    "\n",
    "Note that you should NOT return the original data X... only the new augmented datapoints.\n",
    "\n",
    "Tips:  \n",
    "* Use ```np.random.randint``` to select a set of indices of the data for augmentation.  In this way you can generate many random samples (with replacement) for new x data.\n",
    "* Choose either ```np.random.normal``` or  ```np.random.uniform``` to generate a (small) random noise value of the same shape as the observation (a vector)\n",
    "    * Remember to keep the ```scale``` (standard deviation of normal distrution) or ```low``` and ```high``` parameters of the uniform distribution small so you dont fundamentally change the meaning of an XOR observation\n",
    "* Add the noise vector to only the values of X (dont add it to Y labels)\n",
    "\n"
   ]
  },
  {
   "cell_type": "code",
   "execution_count": 11,
   "metadata": {},
   "outputs": [],
   "source": [
    "def generateAugmentedTrainData(X,Y,augscale=0.0, augCount=100, seed = None):\n",
    "    \"\"\"starting with original datapoints X and labels Y, return new augmented datapoints of size augCount\"\"\"\n",
    "    np.random.seed(seed=seed)\n",
    "    xtrain = X #placeholder only\n",
    "    ytrain = Y #placeholder only\n",
    "    \n",
    "\n",
    "    # make a larger dataset in which you \n",
    "    # add a small random perturbation to the features of each datapoint\n",
    "    # note that you should NOT return the original data X and Y - only newly generated points\n",
    "    # You should be able to do this without a for loop since numpys random generators are all vectorized. Just make sure your array shapes are compatible.\n",
    "    \n",
    "    \n",
    "    ##### STUDENT CODE FOR DATA AUGMENTATION #############\n",
    "    \n",
    "    \n",
    "    ############# END STUDENT CODE #######################\n",
    "    \n",
    "    return xtrain,ytrain"
   ]
  },
  {
   "cell_type": "markdown",
   "metadata": {},
   "source": [
    "---\n",
    "\n",
    "## Train the small network using data augmentation\n",
    "\n",
    "### Reinitialize the small network"
   ]
  },
  {
   "cell_type": "code",
   "execution_count": 12,
   "metadata": {},
   "outputs": [
    {
     "name": "stdout",
     "output_type": "stream",
     "text": [
      "\n",
      "\n",
      "Layer     Inshape     Outshape     Param #  \n",
      "================================\n",
      "  0        2            2          6 \n",
      "  1        2            1          3 \n",
      "================================\n",
      "total trainable params:  9\n"
     ]
    }
   ],
   "source": [
    "small_model.initialize(seed=NETWORK_INIT_SEED)\n",
    "small_model.summary()"
   ]
  },
  {
   "cell_type": "markdown",
   "metadata": {},
   "source": [
    "### Re-Train the small network using data augmentation"
   ]
  },
  {
   "cell_type": "code",
   "execution_count": 13,
   "metadata": {},
   "outputs": [
    {
     "data": {
      "image/png": "[encoded data removed]",
      "text/plain": [
       "<Figure size 432x288 with 1 Axes>"
      ]
     },
     "metadata": {
      "needs_background": "light"
     },
     "output_type": "display_data"
    },
    {
     "name": "stdout",
     "output_type": "stream",
     "text": [
      "\n",
      " BEFORE TRAINING (randomized weights)\n",
      "\n",
      "\n",
      "input width:  2\n",
      "Layer  0\n",
      "[ 1.62434536 -0.61175641]    [0.86540763]\n",
      "[-0.52817175 -1.07296862]    [-2.3015387]\n",
      "Layer  1\n",
      "[ 1.62434536 -0.61175641]    [-0.52817175]\n",
      "output width:  1\n",
      "\n",
      "\n",
      "predictions: \n",
      " [[ True]\n",
      " [False]\n",
      " [ True]\n",
      " [ True]]\n",
      "Predictions correct?: \n",
      " [[False]\n",
      " [False]\n",
      " [ True]\n",
      " [False]]\n",
      "Training Model...\n",
      "Training Complete!\n",
      "\n",
      " \n",
      " AFTER TRAINING (learned model weights) \n",
      "\n",
      "\n",
      "input width:  2\n",
      "Layer  0\n",
      "[ 2.35238346 -0.6055079 ]    [0.85201171]\n",
      "[-1.43579146 -2.91677694]    [-2.3015387]\n",
      "Layer  1\n",
      "[ 0.07803159 -1.66300949]    [-0.19501975]\n",
      "output width:  1\n",
      "\n",
      "\n",
      "predictions: \n",
      " [[False]\n",
      " [False]\n",
      " [ True]\n",
      " [ True]]\n",
      "Predictions correct?: \n",
      " [[ True]\n",
      " [False]\n",
      " [ True]\n",
      " [False]]\n"
     ]
    },
    {
     "data": {
      "image/png": "[encoded data removed]",
      "text/plain": [
       "<Figure size 576x360 with 2 Axes>"
      ]
     },
     "metadata": {
      "needs_background": "light"
     },
     "output_type": "display_data"
    },
    {
     "data": {
      "image/png": "[encoded data removed]",
      "text/plain": [
       "<Figure size 432x288 with 1 Axes>"
      ]
     },
     "metadata": {
      "needs_background": "light"
     },
     "output_type": "display_data"
    },
    {
     "data": {
      "image/png": "[encoded data removed]",
      "text/plain": [
       "<Figure size 432x288 with 1 Axes>"
      ]
     },
     "metadata": {
      "needs_background": "light"
     },
     "output_type": "display_data"
    }
   ],
   "source": [
    "X, Y = get_input_output_data(gate='XOR')\n",
    "\n",
    "x_augmented,y_augmented = generateAugmentedTrainData(X,Y,augscale=0.1,augCount=100, seed = DATA_AUGMENT_SEED)  #save these augmented for later\n",
    "\n",
    "#use only the augmented data for training\n",
    "trainX = x_augmented\n",
    "trainY = y_augmented\n",
    "\n",
    "dataplotter(trainX,trainY,\"Augmented Data Plot for XOR\")\n",
    "\n",
    "#use only the real original labeled data for validation\n",
    "valX = X\n",
    "valY = Y\n",
    "\n",
    "#note that the underscore below says dont capture the returned training history from the model trainer (otherwise it would print out to screen)\n",
    "\n",
    "_ = train_ANN_model(small_model,trainX,trainY,valX,valY,\n",
    "                learning_rate=LEARNING_RATE,lr_decay=LEARNING_RATE_DECAY,\n",
    "                valPatience = VAL_PATIENCE, maxEpochs = MAX_EPOCHS, plotname = \"Small Model With Augmentation\")\n"
   ]
  },
  {
   "cell_type": "markdown",
   "metadata": {},
   "source": [
    "Results:  We can see that the smaller network with data augmentation also fails to find a decision boundary"
   ]
  },
  {
   "cell_type": "markdown",
   "metadata": {},
   "source": [
    "---\n",
    "\n",
    "# Student coding step 3: Make a higher-cpacity network\n",
    "\n",
    "Increase the capacity of the network.  This should make it easier for the network to learn... as long as it is not too big and struggles with gradient explosion or dissappearing\n",
    "\n",
    "Use more layers and/or more nodes per layer.  Remember to end the layer with a single node\n",
    "\n",
    "e.g. ```my_layer_widths = [2,2,1]``` \n",
    "\n",
    "and make sure the last layer has a sigmoid output \n",
    "\n",
    "e.g. ```my_activations = [sigmoid,sigmoid,sigmoid]```"
   ]
  },
  {
   "cell_type": "code",
   "execution_count": 14,
   "metadata": {},
   "outputs": [
    {
     "ename": "NameError",
     "evalue": "name 'my_layer_widths' is not defined",
     "output_type": "error",
     "traceback": [
      "\u001b[1;31m---------------------------------------------------------------------------\u001b[0m",
      "\u001b[1;31mNameError\u001b[0m                                 Traceback (most recent call last)",
      "\u001b[1;32m<ipython-input-14-6f21af703aa0>\u001b[0m in \u001b[0;36m<module>\u001b[1;34m\u001b[0m\n\u001b[0;32m     23\u001b[0m \u001b[1;33m\u001b[0m\u001b[0m\n\u001b[0;32m     24\u001b[0m bigger_model = make_ANN_model(input_width = 2,  # should be the input width... 2 for boolean 2-input logic like XOR\n\u001b[1;32m---> 25\u001b[1;33m                               \u001b[0mlayer_widths\u001b[0m \u001b[1;33m=\u001b[0m \u001b[0mmy_layer_widths\u001b[0m\u001b[1;33m,\u001b[0m  \u001b[1;31m#number of nodes in each layer\u001b[0m\u001b[1;33m\u001b[0m\u001b[1;33m\u001b[0m\u001b[0m\n\u001b[0m\u001b[0;32m     26\u001b[0m                               \u001b[0mlayer_activiations\u001b[0m \u001b[1;33m=\u001b[0m \u001b[0mmy_activations\u001b[0m\u001b[1;33m,\u001b[0m  \u001b[1;31m#activations at each layer\u001b[0m\u001b[1;33m\u001b[0m\u001b[1;33m\u001b[0m\u001b[0m\n\u001b[0;32m     27\u001b[0m                               \u001b[0mregularizer_gradient_fcn\u001b[0m\u001b[1;33m=\u001b[0m\u001b[0mL2_reg_gradient\u001b[0m\u001b[1;33m,\u001b[0m\u001b[1;33m\u001b[0m\u001b[1;33m\u001b[0m\u001b[0m\n",
      "\u001b[1;31mNameError\u001b[0m: name 'my_layer_widths' is not defined"
     ]
    }
   ],
   "source": [
    "# enter the code below to set up the layers and activations for your network\n",
    "# each of these should be a list, with the first member of the list being the input size and the last member of the list describing the output layer\n",
    "# remember that the output width should be 1 and the output activation should be sigmoid\n",
    "\n",
    "# my_layer_widths = [L1width,L2width...,LNwidth]\n",
    "# my_activations = [L1a,L2a,...LNa]\n",
    "\n",
    "# where L1width, L2width ... LNwidths are integer shapes of the network from first hidden layer to output layer (layer).  Last layer should be a 1\n",
    "# where L1a, L2ah ... LNa are the activation functions of the network from first hidden layer to output layer (layer).  Last layer should be a sigmoid if doing classification or logic gates\n",
    "\n",
    "\n",
    "# example of small 2 layer network (1 hidden, 1 output, with relu activation for hidden, then sigmoid activation for the output):\n",
    "# my_layer_widths = [2,1]\n",
    "# my_activations = [relu,sigmoid]\n",
    "\n",
    "#make a larger network below\n",
    "\n",
    "############## STUDENT CODE ##################\n",
    "\n",
    "\n",
    "######## END STUDENT CODE ####################\n",
    "\n",
    "\n",
    "bigger_model = make_ANN_model(input_width = 2,  # should be the input width... 2 for boolean 2-input logic like XOR\n",
    "                              layer_widths = my_layer_widths,  #number of nodes in each layer\n",
    "                              layer_activiations = my_activations,  #activations at each layer\n",
    "                              regularizer_gradient_fcn=L2_reg_gradient,\n",
    "                              reg_lambda=0.02, #low regularization\n",
    "                              seed = NETWORK_INIT_SEED)  \n",
    "\n",
    "\n",
    "\n",
    "print(\"empty model info\")\n",
    "bigger_model.summary()"
   ]
  },
  {
   "cell_type": "markdown",
   "metadata": {},
   "source": [
    "## Train the bigger capacity model without data augmentation"
   ]
  },
  {
   "cell_type": "code",
   "execution_count": null,
   "metadata": {},
   "outputs": [],
   "source": [
    "X, Y = get_input_output_data(gate='XOR')\n",
    "\n",
    "trainX = X\n",
    "trainY = Y\n",
    "valX = X\n",
    "valY = Y\n",
    "\n",
    "#note that the underscore below says dont capture the returned training history from the model trainer (otherwise it would print out to screen)\n",
    "_ =train_ANN_model(bigger_model,trainX,trainY,valX,valY,\n",
    "                learning_rate=LEARNING_RATE,lr_decay=LEARNING_RATE_DECAY,\n",
    "                valPatience = VAL_PATIENCE, maxEpochs = MAX_EPOCHS, plotname = \"Bigger Model No Augmentation\")"
   ]
  },
  {
   "cell_type": "markdown",
   "metadata": {},
   "source": [
    "Results:  Notice that this larger capacity model is not yet able to model XOR.... lets try it with the augmented data"
   ]
  },
  {
   "cell_type": "markdown",
   "metadata": {},
   "source": [
    "---\n",
    "\n",
    "## Train the bigger capacity model with the augmented Data \n"
   ]
  },
  {
   "cell_type": "code",
   "execution_count": null,
   "metadata": {},
   "outputs": [],
   "source": [
    "trainX = x_augmented  #use the augmented training data\n",
    "trainY = y_augmented\n",
    "\n",
    "valX,valY=X,Y\n",
    "\n",
    "bigger_model.initialize(seed = NETWORK_INIT_SEED)  #reset the model initial weights\n",
    "\n",
    "#note that the underscore below says dont capture the returned training history from the model trainer (otherwise it would print out to screen)\n",
    "# _ = train_ANN_model(bigger_model,trainX,trainY,valX,valY,\n",
    "#                 learning_rate=0.1,lr_decay=1.0,\n",
    "#                 valPatience = 20, maxEpochs = 10000, plotname = \"Bigger Model with Augmentation\")\n",
    "\n",
    "_ = train_ANN_model(bigger_model,trainX,trainY,valX,valY,\n",
    "                learning_rate=LEARNING_RATE,lr_decay=LEARNING_RATE_DECAY,\n",
    "                valPatience = VAL_PATIENCE, maxEpochs = MAX_EPOCHS, plotname = \"Bigger Model with Augmentation\")"
   ]
  },
  {
   "cell_type": "markdown",
   "metadata": {},
   "source": [
    "Notice that the bigger capacity model with early stopping and data augmentation works well and produced a decision boundary for XOR... perhaps not the best... but it works"
   ]
  }
 ],
 "metadata": {
  "kernelspec": {
   "display_name": "Python 3",
   "language": "python",
   "name": "python3"
  },
  "language_info": {
   "codemirror_mode": {
    "name": "ipython",
    "version": 3
   },
   "file_extension": ".py",
   "mimetype": "text/x-python",
   "name": "python",
   "nbconvert_exporter": "python",
   "pygments_lexer": "ipython3",
   "version": "3.7.6"
  }
 },
 "nbformat": 4,
 "nbformat_minor": 4
}
